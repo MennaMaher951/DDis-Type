{
 "cells": [
  {
   "cell_type": "markdown",
   "id": "24e450c8",
   "metadata": {},
   "source": [
    "## Importing the Dependencies"
   ]
  },
  {
   "cell_type": "code",
   "execution_count": 1,
   "id": "51b71860",
   "metadata": {},
   "outputs": [],
   "source": [
    "import pandas as pd , numpy as np \n",
    "import warnings                     \n",
    "warnings.filterwarnings(\"ignore\")\n",
    "from sklearn.preprocessing import LabelEncoder\n",
    "from sklearn.model_selection import train_test_split\n",
    "import matplotlib.pyplot as plt\n",
    "from sklearn.ensemble import RandomForestRegressor \n",
    "from sklearn.svm import SVR\n",
    "from sklearn.model_selection import cross_val_score\n",
    "from sklearn.preprocessing import StandardScaler\n",
    "import re\n",
    "from sklearn import metrics"
   ]
  },
  {
   "cell_type": "markdown",
   "id": "d6444943",
   "metadata": {},
   "source": [
    "## Data Collection"
   ]
  },
  {
   "cell_type": "code",
   "execution_count": 2,
   "id": "e941ecfd",
   "metadata": {},
   "outputs": [],
   "source": [
    "# Specify the file path\n",
    "file_path = \"DeepDDI-results_entire-drug-pairs.txt\" \n",
    "\n",
    "# Read the data from the text file with tab separation\n",
    "df = pd.read_csv(file_path, sep='\\t', header=None,\n",
    "                 names=[\"DDI type\", \"DeepDDI Output Sentence\", \"Output Neuron Activity\", \"S-score by Huang et al. (2013)\", \"Structurally Similar Drug\"])"
   ]
  },
  {
   "cell_type": "code",
   "execution_count": 3,
   "id": "d87cb55f",
   "metadata": {},
   "outputs": [
    {
     "data": {
      "text/html": [
       "<div>\n",
       "<style scoped>\n",
       "    .dataframe tbody tr th:only-of-type {\n",
       "        vertical-align: middle;\n",
       "    }\n",
       "\n",
       "    .dataframe tbody tr th {\n",
       "        vertical-align: top;\n",
       "    }\n",
       "\n",
       "    .dataframe thead th {\n",
       "        text-align: right;\n",
       "    }\n",
       "</style>\n",
       "<table border=\"1\" class=\"dataframe\">\n",
       "  <thead>\n",
       "    <tr style=\"text-align: right;\">\n",
       "      <th></th>\n",
       "      <th>DDI type</th>\n",
       "      <th>DeepDDI Output Sentence</th>\n",
       "      <th>Output Neuron Activity</th>\n",
       "      <th>S-score by Huang et al. (2013)</th>\n",
       "      <th>Structurally Similar Drug</th>\n",
       "    </tr>\n",
       "  </thead>\n",
       "  <tbody>\n",
       "    <tr>\n",
       "      <th>0</th>\n",
       "      <td>DDI type</td>\n",
       "      <td>DeepDDI output sentence for the corresponding ...</td>\n",
       "      <td>Output neuron activity</td>\n",
       "      <td>S-score by Huang et al. (2013)</td>\n",
       "      <td>Structurally similar drug member in drug pairs...</td>\n",
       "    </tr>\n",
       "    <tr>\n",
       "      <th>1</th>\n",
       "      <td>47</td>\n",
       "      <td>The metabolism of DB01197 can be decreased whe...</td>\n",
       "      <td>0.965315</td>\n",
       "      <td>NaN</td>\n",
       "      <td>DB06410 -&gt; DB00169(P11473)</td>\n",
       "    </tr>\n",
       "    <tr>\n",
       "      <th>2</th>\n",
       "      <td>49</td>\n",
       "      <td>The risk or severity of adverse effects can be...</td>\n",
       "      <td>0.995729</td>\n",
       "      <td>0.43595587046</td>\n",
       "      <td>DB06412 -&gt; DB00396(P06401|P03372|P08235);DB006...</td>\n",
       "    </tr>\n",
       "    <tr>\n",
       "      <th>3</th>\n",
       "      <td>47</td>\n",
       "      <td>The metabolism of DB01197 can be decreased whe...</td>\n",
       "      <td>0.9515</td>\n",
       "      <td>NaN</td>\n",
       "      <td>DB06413 -&gt; DB00745(Q01959)</td>\n",
       "    </tr>\n",
       "    <tr>\n",
       "      <th>4</th>\n",
       "      <td>49</td>\n",
       "      <td>The risk or severity of adverse effects can be...</td>\n",
       "      <td>1.0</td>\n",
       "      <td>1.67579755691</td>\n",
       "      <td>DB06594 -&gt; DB01065(P48039|P49286);DB00461(P353...</td>\n",
       "    </tr>\n",
       "  </tbody>\n",
       "</table>\n",
       "</div>"
      ],
      "text/plain": [
       "   DDI type                            DeepDDI Output Sentence  \\\n",
       "0  DDI type  DeepDDI output sentence for the corresponding ...   \n",
       "1        47  The metabolism of DB01197 can be decreased whe...   \n",
       "2        49  The risk or severity of adverse effects can be...   \n",
       "3        47  The metabolism of DB01197 can be decreased whe...   \n",
       "4        49  The risk or severity of adverse effects can be...   \n",
       "\n",
       "   Output Neuron Activity  S-score by Huang et al. (2013)  \\\n",
       "0  Output neuron activity  S-score by Huang et al. (2013)   \n",
       "1                0.965315                             NaN   \n",
       "2                0.995729                   0.43595587046   \n",
       "3                  0.9515                             NaN   \n",
       "4                     1.0                   1.67579755691   \n",
       "\n",
       "                           Structurally Similar Drug  \n",
       "0  Structurally similar drug member in drug pairs...  \n",
       "1                         DB06410 -> DB00169(P11473)  \n",
       "2  DB06412 -> DB00396(P06401|P03372|P08235);DB006...  \n",
       "3                         DB06413 -> DB00745(Q01959)  \n",
       "4  DB06594 -> DB01065(P48039|P49286);DB00461(P353...  "
      ]
     },
     "execution_count": 3,
     "metadata": {},
     "output_type": "execute_result"
    }
   ],
   "source": [
    "df.head()"
   ]
  },
  {
   "cell_type": "code",
   "execution_count": 4,
   "id": "e1e5959a",
   "metadata": {},
   "outputs": [],
   "source": [
    "df = df.drop(0)"
   ]
  },
  {
   "cell_type": "code",
   "execution_count": 5,
   "id": "5380c4ca",
   "metadata": {},
   "outputs": [
    {
     "data": {
      "text/plain": [
       "(3632573, 5)"
      ]
     },
     "execution_count": 5,
     "metadata": {},
     "output_type": "execute_result"
    }
   ],
   "source": [
    "df.shape"
   ]
  },
  {
   "cell_type": "code",
   "execution_count": 6,
   "id": "42c900d3",
   "metadata": {
    "scrolled": true
   },
   "outputs": [
    {
     "data": {
      "text/plain": [
       "DDI type\n",
       "49    1734748\n",
       "47     430800\n",
       "73     359081\n",
       "70     209771\n",
       "75     170933\n",
       "       ...   \n",
       "48          2\n",
       "42          2\n",
       "44          1\n",
       "7           1\n",
       "28          1\n",
       "Name: count, Length: 164, dtype: int64"
      ]
     },
     "execution_count": 6,
     "metadata": {},
     "output_type": "execute_result"
    }
   ],
   "source": [
    "df['DDI type'].value_counts()"
   ]
  },
  {
   "cell_type": "code",
   "execution_count": 7,
   "id": "68e47dd2",
   "metadata": {},
   "outputs": [],
   "source": [
    "data = pd.read_excel(\"pnas.1803294115.sd01.xlsx\")"
   ]
  },
  {
   "cell_type": "code",
   "execution_count": 8,
   "id": "9ba46da3",
   "metadata": {},
   "outputs": [],
   "source": [
    "data = data.drop(0)"
   ]
  },
  {
   "cell_type": "code",
   "execution_count": 9,
   "id": "98fda4fb",
   "metadata": {},
   "outputs": [],
   "source": [
    "data.columns = data.iloc[0]  # Set the first row as the header\n",
    "data = data[1:]"
   ]
  },
  {
   "cell_type": "code",
   "execution_count": 10,
   "id": "29df2623",
   "metadata": {
    "scrolled": true
   },
   "outputs": [
    {
     "data": {
      "text/html": [
       "<div>\n",
       "<style scoped>\n",
       "    .dataframe tbody tr th:only-of-type {\n",
       "        vertical-align: middle;\n",
       "    }\n",
       "\n",
       "    .dataframe tbody tr th {\n",
       "        vertical-align: top;\n",
       "    }\n",
       "\n",
       "    .dataframe thead th {\n",
       "        text-align: right;\n",
       "    }\n",
       "</style>\n",
       "<table border=\"1\" class=\"dataframe\">\n",
       "  <thead>\n",
       "    <tr style=\"text-align: right;\">\n",
       "      <th>1</th>\n",
       "      <th>DDI type</th>\n",
       "      <th>General sentence structure</th>\n",
       "    </tr>\n",
       "  </thead>\n",
       "  <tbody>\n",
       "    <tr>\n",
       "      <th>2</th>\n",
       "      <td>1</td>\n",
       "      <td>Drug a can cause a decrease in the absorption ...</td>\n",
       "    </tr>\n",
       "    <tr>\n",
       "      <th>3</th>\n",
       "      <td>2</td>\n",
       "      <td>Drug a can cause an increase in the absorption...</td>\n",
       "    </tr>\n",
       "    <tr>\n",
       "      <th>4</th>\n",
       "      <td>3</td>\n",
       "      <td>The absorption of Drug b can be decreased when...</td>\n",
       "    </tr>\n",
       "    <tr>\n",
       "      <th>5</th>\n",
       "      <td>4</td>\n",
       "      <td>The bioavailability of Drug b can be decreased...</td>\n",
       "    </tr>\n",
       "    <tr>\n",
       "      <th>6</th>\n",
       "      <td>5</td>\n",
       "      <td>The bioavailability of Drug b can be increased...</td>\n",
       "    </tr>\n",
       "  </tbody>\n",
       "</table>\n",
       "</div>"
      ],
      "text/plain": [
       "1 DDI type                         General sentence structure\n",
       "2        1  Drug a can cause a decrease in the absorption ...\n",
       "3        2  Drug a can cause an increase in the absorption...\n",
       "4        3  The absorption of Drug b can be decreased when...\n",
       "5        4  The bioavailability of Drug b can be decreased...\n",
       "6        5  The bioavailability of Drug b can be increased..."
      ]
     },
     "execution_count": 10,
     "metadata": {},
     "output_type": "execute_result"
    }
   ],
   "source": [
    "data.head()"
   ]
  },
  {
   "cell_type": "markdown",
   "id": "cbba9d71",
   "metadata": {},
   "source": [
    "## Merging Data"
   ]
  },
  {
   "cell_type": "code",
   "execution_count": 11,
   "id": "1d4121f5",
   "metadata": {},
   "outputs": [],
   "source": [
    "# Merge the two DataFrames based on the \"DDI type\" column\n",
    "merged_data = df.merge(data, on=\"DDI type\", how=\"inner\")"
   ]
  },
  {
   "cell_type": "code",
   "execution_count": 12,
   "id": "6945ea9e",
   "metadata": {
    "scrolled": true
   },
   "outputs": [
    {
     "data": {
      "text/plain": [
       "DDI type\n",
       "49    1734748\n",
       "47     430800\n",
       "73     359081\n",
       "70     209771\n",
       "75     170933\n",
       "       ...   \n",
       "26         26\n",
       "43         23\n",
       "44          7\n",
       "1           7\n",
       "42          2\n",
       "Name: count, Length: 86, dtype: int64"
      ]
     },
     "execution_count": 12,
     "metadata": {},
     "output_type": "execute_result"
    }
   ],
   "source": [
    "merged_data['DDI type'].value_counts()"
   ]
  },
  {
   "cell_type": "code",
   "execution_count": 13,
   "id": "c6efd238",
   "metadata": {},
   "outputs": [
    {
     "data": {
      "text/html": [
       "<div>\n",
       "<style scoped>\n",
       "    .dataframe tbody tr th:only-of-type {\n",
       "        vertical-align: middle;\n",
       "    }\n",
       "\n",
       "    .dataframe tbody tr th {\n",
       "        vertical-align: top;\n",
       "    }\n",
       "\n",
       "    .dataframe thead th {\n",
       "        text-align: right;\n",
       "    }\n",
       "</style>\n",
       "<table border=\"1\" class=\"dataframe\">\n",
       "  <thead>\n",
       "    <tr style=\"text-align: right;\">\n",
       "      <th></th>\n",
       "      <th>DDI type</th>\n",
       "      <th>DeepDDI Output Sentence</th>\n",
       "      <th>Output Neuron Activity</th>\n",
       "      <th>S-score by Huang et al. (2013)</th>\n",
       "      <th>Structurally Similar Drug</th>\n",
       "      <th>General sentence structure</th>\n",
       "    </tr>\n",
       "  </thead>\n",
       "  <tbody>\n",
       "    <tr>\n",
       "      <th>0</th>\n",
       "      <td>75</td>\n",
       "      <td>The serum concentration of DB01223 can be decr...</td>\n",
       "      <td>0.972133</td>\n",
       "      <td>NaN</td>\n",
       "      <td>DB08896 -&gt; DB00398(P15056|P04049|P35916|P35968...</td>\n",
       "      <td>Drug a may increase the photosensitizing activ...</td>\n",
       "    </tr>\n",
       "    <tr>\n",
       "      <th>1</th>\n",
       "      <td>75</td>\n",
       "      <td>The serum concentration of DB01262 can be decr...</td>\n",
       "      <td>0.995778</td>\n",
       "      <td>NaN</td>\n",
       "      <td>DB08896 -&gt; DB00398(P15056|P04049|P35916|P35968...</td>\n",
       "      <td>Drug a may increase the photosensitizing activ...</td>\n",
       "    </tr>\n",
       "    <tr>\n",
       "      <th>2</th>\n",
       "      <td>75</td>\n",
       "      <td>The serum concentration of DB01262 can be decr...</td>\n",
       "      <td>0.995778</td>\n",
       "      <td>NaN</td>\n",
       "      <td>DB01262 -&gt; DB00441(None|P23921);DB00987(None|P...</td>\n",
       "      <td>Drug a may increase the photosensitizing activ...</td>\n",
       "    </tr>\n",
       "    <tr>\n",
       "      <th>3</th>\n",
       "      <td>75</td>\n",
       "      <td>The serum concentration of DB01265 can be decr...</td>\n",
       "      <td>0.664637</td>\n",
       "      <td>NaN</td>\n",
       "      <td>DB08896 -&gt; DB00398(P15056|P04049|P35916|P35968...</td>\n",
       "      <td>Drug a may increase the photosensitizing activ...</td>\n",
       "    </tr>\n",
       "    <tr>\n",
       "      <th>4</th>\n",
       "      <td>75</td>\n",
       "      <td>The serum concentration of DB01265 can be decr...</td>\n",
       "      <td>0.664637</td>\n",
       "      <td>NaN</td>\n",
       "      <td>DB01265 -&gt; DB00495(Q72547)</td>\n",
       "      <td>Drug a may increase the photosensitizing activ...</td>\n",
       "    </tr>\n",
       "  </tbody>\n",
       "</table>\n",
       "</div>"
      ],
      "text/plain": [
       "  DDI type                            DeepDDI Output Sentence  \\\n",
       "0       75  The serum concentration of DB01223 can be decr...   \n",
       "1       75  The serum concentration of DB01262 can be decr...   \n",
       "2       75  The serum concentration of DB01262 can be decr...   \n",
       "3       75  The serum concentration of DB01265 can be decr...   \n",
       "4       75  The serum concentration of DB01265 can be decr...   \n",
       "\n",
       "  Output Neuron Activity S-score by Huang et al. (2013)  \\\n",
       "0               0.972133                            NaN   \n",
       "1               0.995778                            NaN   \n",
       "2               0.995778                            NaN   \n",
       "3               0.664637                            NaN   \n",
       "4               0.664637                            NaN   \n",
       "\n",
       "                           Structurally Similar Drug  \\\n",
       "0  DB08896 -> DB00398(P15056|P04049|P35916|P35968...   \n",
       "1  DB08896 -> DB00398(P15056|P04049|P35916|P35968...   \n",
       "2  DB01262 -> DB00441(None|P23921);DB00987(None|P...   \n",
       "3  DB08896 -> DB00398(P15056|P04049|P35916|P35968...   \n",
       "4                         DB01265 -> DB00495(Q72547)   \n",
       "\n",
       "                          General sentence structure  \n",
       "0  Drug a may increase the photosensitizing activ...  \n",
       "1  Drug a may increase the photosensitizing activ...  \n",
       "2  Drug a may increase the photosensitizing activ...  \n",
       "3  Drug a may increase the photosensitizing activ...  \n",
       "4  Drug a may increase the photosensitizing activ...  "
      ]
     },
     "execution_count": 13,
     "metadata": {},
     "output_type": "execute_result"
    }
   ],
   "source": [
    "merged_data.head()"
   ]
  },
  {
   "cell_type": "code",
   "execution_count": 14,
   "id": "f71570da",
   "metadata": {},
   "outputs": [
    {
     "data": {
      "text/plain": [
       "(3501502, 6)"
      ]
     },
     "execution_count": 14,
     "metadata": {},
     "output_type": "execute_result"
    }
   ],
   "source": [
    "merged_data.shape"
   ]
  },
  {
   "cell_type": "markdown",
   "id": "5b07bbdd",
   "metadata": {},
   "source": [
    "## Data Preprocessing"
   ]
  },
  {
   "cell_type": "code",
   "execution_count": 15,
   "id": "330b4d59",
   "metadata": {
    "scrolled": false
   },
   "outputs": [],
   "source": [
    "# Count the number of occurrences of each DDI type\n",
    "ddi_type_counts = merged_data['DDI type'].value_counts()\n",
    "\n",
    "# Calculate the number of samples to take for each DDI type\n",
    "sample_size_per_ddi_type = 192000 // len(ddi_type_counts)\n",
    "\n",
    "# Initialize an empty DataFrame for the sampled data\n",
    "sampled_data = pd.DataFrame()\n",
    "\n",
    "# Loop through each DDI type and sample the specified number of rows\n",
    "for ddi_type, count in ddi_type_counts.items():\n",
    "    sample_size = min(sample_size_per_ddi_type, count)\n",
    "    sampled_data = pd.concat([sampled_data, merged_data[merged_data['DDI type'] == ddi_type].sample(n=sample_size, random_state=42)])\n",
    "\n",
    "remaining_samples = 192000 - len(sampled_data)\n",
    "if remaining_samples > 0:\n",
    "    for ddi_type, count in ddi_type_counts.items():\n",
    "        if remaining_samples == 0:\n",
    "            break\n",
    "        if count > sample_size_per_ddi_type:\n",
    "            additional_samples = min(remaining_samples, count - sample_size_per_ddi_type)\n",
    "            sampled_data = pd.concat([sampled_data, merged_data[merged_data['DDI type'] == ddi_type].sample(n=additional_samples, random_state=42)])\n",
    "            remaining_samples -= additional_samples\n",
    "\n",
    "# Reset the index of the sampled data\n",
    "sampled_data.reset_index(drop=True, inplace=True)\n"
   ]
  },
  {
   "cell_type": "code",
   "execution_count": 16,
   "id": "4a0f9a4a",
   "metadata": {},
   "outputs": [
    {
     "data": {
      "text/plain": [
       "(192000, 6)"
      ]
     },
     "execution_count": 16,
     "metadata": {},
     "output_type": "execute_result"
    }
   ],
   "source": [
    "sampled_data.shape"
   ]
  },
  {
   "cell_type": "code",
   "execution_count": 17,
   "id": "6d4e8105",
   "metadata": {},
   "outputs": [
    {
     "data": {
      "text/html": [
       "<div>\n",
       "<style scoped>\n",
       "    .dataframe tbody tr th:only-of-type {\n",
       "        vertical-align: middle;\n",
       "    }\n",
       "\n",
       "    .dataframe tbody tr th {\n",
       "        vertical-align: top;\n",
       "    }\n",
       "\n",
       "    .dataframe thead th {\n",
       "        text-align: right;\n",
       "    }\n",
       "</style>\n",
       "<table border=\"1\" class=\"dataframe\">\n",
       "  <thead>\n",
       "    <tr style=\"text-align: right;\">\n",
       "      <th></th>\n",
       "      <th>DDI type</th>\n",
       "      <th>DeepDDI Output Sentence</th>\n",
       "      <th>Output Neuron Activity</th>\n",
       "      <th>S-score by Huang et al. (2013)</th>\n",
       "      <th>Structurally Similar Drug</th>\n",
       "      <th>General sentence structure</th>\n",
       "    </tr>\n",
       "  </thead>\n",
       "  <tbody>\n",
       "    <tr>\n",
       "      <th>0</th>\n",
       "      <td>49</td>\n",
       "      <td>The risk or severity of adverse effects can be...</td>\n",
       "      <td>0.998408</td>\n",
       "      <td>NaN</td>\n",
       "      <td>DB08896 -&gt; DB00398(P15056|P04049|P35916|P35968...</td>\n",
       "      <td>Drug a may increase the antipsychotic activiti...</td>\n",
       "    </tr>\n",
       "    <tr>\n",
       "      <th>1</th>\n",
       "      <td>49</td>\n",
       "      <td>The risk or severity of adverse effects can be...</td>\n",
       "      <td>0.998893</td>\n",
       "      <td>NaN</td>\n",
       "      <td>DB00418 -&gt; DB00474(P14867);DB01353(P14867|P478...</td>\n",
       "      <td>Drug a may increase the antipsychotic activiti...</td>\n",
       "    </tr>\n",
       "    <tr>\n",
       "      <th>2</th>\n",
       "      <td>49</td>\n",
       "      <td>The risk or severity of adverse effects can be...</td>\n",
       "      <td>0.999307</td>\n",
       "      <td>NaN</td>\n",
       "      <td>DB00708 -&gt; DB00813(P35372|P41143);DB00899(P353...</td>\n",
       "      <td>Drug a may increase the antipsychotic activiti...</td>\n",
       "    </tr>\n",
       "    <tr>\n",
       "      <th>3</th>\n",
       "      <td>49</td>\n",
       "      <td>The risk or severity of adverse effects can be...</td>\n",
       "      <td>0.99935</td>\n",
       "      <td>NaN</td>\n",
       "      <td>DB00635 -&gt; DB00443(P04150);DB00959(P04150);DB0...</td>\n",
       "      <td>Drug a may increase the antipsychotic activiti...</td>\n",
       "    </tr>\n",
       "    <tr>\n",
       "      <th>4</th>\n",
       "      <td>49</td>\n",
       "      <td>The risk or severity of adverse effects can be...</td>\n",
       "      <td>0.996426</td>\n",
       "      <td>NaN</td>\n",
       "      <td>DB00681 -&gt; DB00826(None);DB00646(None)</td>\n",
       "      <td>Drug a may increase the antipsychotic activiti...</td>\n",
       "    </tr>\n",
       "  </tbody>\n",
       "</table>\n",
       "</div>"
      ],
      "text/plain": [
       "  DDI type                            DeepDDI Output Sentence  \\\n",
       "0       49  The risk or severity of adverse effects can be...   \n",
       "1       49  The risk or severity of adverse effects can be...   \n",
       "2       49  The risk or severity of adverse effects can be...   \n",
       "3       49  The risk or severity of adverse effects can be...   \n",
       "4       49  The risk or severity of adverse effects can be...   \n",
       "\n",
       "  Output Neuron Activity S-score by Huang et al. (2013)  \\\n",
       "0               0.998408                            NaN   \n",
       "1               0.998893                            NaN   \n",
       "2               0.999307                            NaN   \n",
       "3                0.99935                            NaN   \n",
       "4               0.996426                            NaN   \n",
       "\n",
       "                           Structurally Similar Drug  \\\n",
       "0  DB08896 -> DB00398(P15056|P04049|P35916|P35968...   \n",
       "1  DB00418 -> DB00474(P14867);DB01353(P14867|P478...   \n",
       "2  DB00708 -> DB00813(P35372|P41143);DB00899(P353...   \n",
       "3  DB00635 -> DB00443(P04150);DB00959(P04150);DB0...   \n",
       "4             DB00681 -> DB00826(None);DB00646(None)   \n",
       "\n",
       "                          General sentence structure  \n",
       "0  Drug a may increase the antipsychotic activiti...  \n",
       "1  Drug a may increase the antipsychotic activiti...  \n",
       "2  Drug a may increase the antipsychotic activiti...  \n",
       "3  Drug a may increase the antipsychotic activiti...  \n",
       "4  Drug a may increase the antipsychotic activiti...  "
      ]
     },
     "execution_count": 17,
     "metadata": {},
     "output_type": "execute_result"
    }
   ],
   "source": [
    "sampled_data.head()"
   ]
  },
  {
   "cell_type": "code",
   "execution_count": 18,
   "id": "29e6e9b9",
   "metadata": {},
   "outputs": [
    {
     "data": {
      "text/plain": [
       "DDI type\n",
       "49    68083\n",
       "25     2232\n",
       "85     2232\n",
       "53     2232\n",
       "10     2232\n",
       "      ...  \n",
       "26       26\n",
       "43       23\n",
       "44        7\n",
       "1         7\n",
       "42        2\n",
       "Name: count, Length: 86, dtype: int64"
      ]
     },
     "execution_count": 18,
     "metadata": {},
     "output_type": "execute_result"
    }
   ],
   "source": [
    "sampled_data['DDI type'].value_counts()"
   ]
  },
  {
   "cell_type": "code",
   "execution_count": 19,
   "id": "02f1c63f",
   "metadata": {},
   "outputs": [
    {
     "data": {
      "text/plain": [
       "DDI type                               0\n",
       "DeepDDI Output Sentence                0\n",
       "Output Neuron Activity                 0\n",
       "S-score by Huang et al. (2013)    153365\n",
       "Structurally Similar Drug              0\n",
       "General sentence structure             0\n",
       "dtype: int64"
      ]
     },
     "execution_count": 19,
     "metadata": {},
     "output_type": "execute_result"
    }
   ],
   "source": [
    "sampled_data.isna().sum()"
   ]
  },
  {
   "cell_type": "code",
   "execution_count": 20,
   "id": "6a842f1a",
   "metadata": {},
   "outputs": [
    {
     "data": {
      "text/html": [
       "<div>\n",
       "<style scoped>\n",
       "    .dataframe tbody tr th:only-of-type {\n",
       "        vertical-align: middle;\n",
       "    }\n",
       "\n",
       "    .dataframe tbody tr th {\n",
       "        vertical-align: top;\n",
       "    }\n",
       "\n",
       "    .dataframe thead th {\n",
       "        text-align: right;\n",
       "    }\n",
       "</style>\n",
       "<table border=\"1\" class=\"dataframe\">\n",
       "  <thead>\n",
       "    <tr style=\"text-align: right;\">\n",
       "      <th></th>\n",
       "      <th>DDI type</th>\n",
       "      <th>DeepDDI Output Sentence</th>\n",
       "      <th>Output Neuron Activity</th>\n",
       "      <th>Structurally Similar Drug</th>\n",
       "      <th>General sentence structure</th>\n",
       "    </tr>\n",
       "  </thead>\n",
       "  <tbody>\n",
       "    <tr>\n",
       "      <th>0</th>\n",
       "      <td>49</td>\n",
       "      <td>The risk or severity of adverse effects can be...</td>\n",
       "      <td>0.998408</td>\n",
       "      <td>DB08896 -&gt; DB00398(P15056|P04049|P35916|P35968...</td>\n",
       "      <td>Drug a may increase the antipsychotic activiti...</td>\n",
       "    </tr>\n",
       "    <tr>\n",
       "      <th>1</th>\n",
       "      <td>49</td>\n",
       "      <td>The risk or severity of adverse effects can be...</td>\n",
       "      <td>0.998893</td>\n",
       "      <td>DB00418 -&gt; DB00474(P14867);DB01353(P14867|P478...</td>\n",
       "      <td>Drug a may increase the antipsychotic activiti...</td>\n",
       "    </tr>\n",
       "    <tr>\n",
       "      <th>2</th>\n",
       "      <td>49</td>\n",
       "      <td>The risk or severity of adverse effects can be...</td>\n",
       "      <td>0.999307</td>\n",
       "      <td>DB00708 -&gt; DB00813(P35372|P41143);DB00899(P353...</td>\n",
       "      <td>Drug a may increase the antipsychotic activiti...</td>\n",
       "    </tr>\n",
       "    <tr>\n",
       "      <th>3</th>\n",
       "      <td>49</td>\n",
       "      <td>The risk or severity of adverse effects can be...</td>\n",
       "      <td>0.99935</td>\n",
       "      <td>DB00635 -&gt; DB00443(P04150);DB00959(P04150);DB0...</td>\n",
       "      <td>Drug a may increase the antipsychotic activiti...</td>\n",
       "    </tr>\n",
       "    <tr>\n",
       "      <th>4</th>\n",
       "      <td>49</td>\n",
       "      <td>The risk or severity of adverse effects can be...</td>\n",
       "      <td>0.996426</td>\n",
       "      <td>DB00681 -&gt; DB00826(None);DB00646(None)</td>\n",
       "      <td>Drug a may increase the antipsychotic activiti...</td>\n",
       "    </tr>\n",
       "    <tr>\n",
       "      <th>...</th>\n",
       "      <td>...</td>\n",
       "      <td>...</td>\n",
       "      <td>...</td>\n",
       "      <td>...</td>\n",
       "      <td>...</td>\n",
       "    </tr>\n",
       "    <tr>\n",
       "      <th>191995</th>\n",
       "      <td>49</td>\n",
       "      <td>The risk or severity of adverse effects can be...</td>\n",
       "      <td>0.999707</td>\n",
       "      <td>DB00462 -&gt; DB09300(P20309);DB01409(P20309);DB0...</td>\n",
       "      <td>Drug a may increase the antipsychotic activiti...</td>\n",
       "    </tr>\n",
       "    <tr>\n",
       "      <th>191996</th>\n",
       "      <td>49</td>\n",
       "      <td>The risk or severity of adverse effects can be...</td>\n",
       "      <td>0.967496</td>\n",
       "      <td>DB06787 -&gt; DB00376(P11229);DB00810(P11229|Q158...</td>\n",
       "      <td>Drug a may increase the antipsychotic activiti...</td>\n",
       "    </tr>\n",
       "    <tr>\n",
       "      <th>191997</th>\n",
       "      <td>49</td>\n",
       "      <td>The risk or severity of adverse effects can be...</td>\n",
       "      <td>0.998757</td>\n",
       "      <td>DB09300 -&gt; DB00747(P11229);DB00462(P11229|P081...</td>\n",
       "      <td>Drug a may increase the antipsychotic activiti...</td>\n",
       "    </tr>\n",
       "    <tr>\n",
       "      <th>191998</th>\n",
       "      <td>49</td>\n",
       "      <td>The risk or severity of adverse effects can be...</td>\n",
       "      <td>0.980797</td>\n",
       "      <td>DB01708 -&gt; DB00741(P04150|P04083);DB00396(P064...</td>\n",
       "      <td>Drug a may increase the antipsychotic activiti...</td>\n",
       "    </tr>\n",
       "    <tr>\n",
       "      <th>191999</th>\n",
       "      <td>49</td>\n",
       "      <td>The risk or severity of adverse effects can be...</td>\n",
       "      <td>0.998015</td>\n",
       "      <td>DB09396 -&gt; DB00647(P35372|P41143|P41145)</td>\n",
       "      <td>Drug a may increase the antipsychotic activiti...</td>\n",
       "    </tr>\n",
       "  </tbody>\n",
       "</table>\n",
       "<p>192000 rows × 5 columns</p>\n",
       "</div>"
      ],
      "text/plain": [
       "       DDI type                            DeepDDI Output Sentence  \\\n",
       "0            49  The risk or severity of adverse effects can be...   \n",
       "1            49  The risk or severity of adverse effects can be...   \n",
       "2            49  The risk or severity of adverse effects can be...   \n",
       "3            49  The risk or severity of adverse effects can be...   \n",
       "4            49  The risk or severity of adverse effects can be...   \n",
       "...         ...                                                ...   \n",
       "191995       49  The risk or severity of adverse effects can be...   \n",
       "191996       49  The risk or severity of adverse effects can be...   \n",
       "191997       49  The risk or severity of adverse effects can be...   \n",
       "191998       49  The risk or severity of adverse effects can be...   \n",
       "191999       49  The risk or severity of adverse effects can be...   \n",
       "\n",
       "       Output Neuron Activity  \\\n",
       "0                    0.998408   \n",
       "1                    0.998893   \n",
       "2                    0.999307   \n",
       "3                     0.99935   \n",
       "4                    0.996426   \n",
       "...                       ...   \n",
       "191995               0.999707   \n",
       "191996               0.967496   \n",
       "191997               0.998757   \n",
       "191998               0.980797   \n",
       "191999               0.998015   \n",
       "\n",
       "                                Structurally Similar Drug  \\\n",
       "0       DB08896 -> DB00398(P15056|P04049|P35916|P35968...   \n",
       "1       DB00418 -> DB00474(P14867);DB01353(P14867|P478...   \n",
       "2       DB00708 -> DB00813(P35372|P41143);DB00899(P353...   \n",
       "3       DB00635 -> DB00443(P04150);DB00959(P04150);DB0...   \n",
       "4                  DB00681 -> DB00826(None);DB00646(None)   \n",
       "...                                                   ...   \n",
       "191995  DB00462 -> DB09300(P20309);DB01409(P20309);DB0...   \n",
       "191996  DB06787 -> DB00376(P11229);DB00810(P11229|Q158...   \n",
       "191997  DB09300 -> DB00747(P11229);DB00462(P11229|P081...   \n",
       "191998  DB01708 -> DB00741(P04150|P04083);DB00396(P064...   \n",
       "191999           DB09396 -> DB00647(P35372|P41143|P41145)   \n",
       "\n",
       "                               General sentence structure  \n",
       "0       Drug a may increase the antipsychotic activiti...  \n",
       "1       Drug a may increase the antipsychotic activiti...  \n",
       "2       Drug a may increase the antipsychotic activiti...  \n",
       "3       Drug a may increase the antipsychotic activiti...  \n",
       "4       Drug a may increase the antipsychotic activiti...  \n",
       "...                                                   ...  \n",
       "191995  Drug a may increase the antipsychotic activiti...  \n",
       "191996  Drug a may increase the antipsychotic activiti...  \n",
       "191997  Drug a may increase the antipsychotic activiti...  \n",
       "191998  Drug a may increase the antipsychotic activiti...  \n",
       "191999  Drug a may increase the antipsychotic activiti...  \n",
       "\n",
       "[192000 rows x 5 columns]"
      ]
     },
     "execution_count": 20,
     "metadata": {},
     "output_type": "execute_result"
    }
   ],
   "source": [
    "sampled_data.drop('S-score by Huang et al. (2013)', axis = 1)"
   ]
  },
  {
   "cell_type": "code",
   "execution_count": 21,
   "id": "4a059775",
   "metadata": {},
   "outputs": [
    {
     "data": {
      "text/plain": [
       "(192000, 6)"
      ]
     },
     "execution_count": 21,
     "metadata": {},
     "output_type": "execute_result"
    }
   ],
   "source": [
    "sampled_data.shape"
   ]
  },
  {
   "cell_type": "code",
   "execution_count": 22,
   "id": "d3659279",
   "metadata": {},
   "outputs": [
    {
     "data": {
      "text/plain": [
       "DDI type\n",
       "49    68083\n",
       "25     2232\n",
       "85     2232\n",
       "53     2232\n",
       "10     2232\n",
       "      ...  \n",
       "26       26\n",
       "43       23\n",
       "44        7\n",
       "1         7\n",
       "42        2\n",
       "Name: count, Length: 86, dtype: int64"
      ]
     },
     "execution_count": 22,
     "metadata": {},
     "output_type": "execute_result"
    }
   ],
   "source": [
    "sampled_data['DDI type'].value_counts()"
   ]
  },
  {
   "cell_type": "code",
   "execution_count": 27,
   "id": "f23dd6c7",
   "metadata": {},
   "outputs": [
    {
     "data": {
      "image/png": "[encoded data removed]",
      "text/plain": [
       "<Figure size 1200x600 with 1 Axes>"
      ]
     },
     "metadata": {},
     "output_type": "display_data"
    }
   ],
   "source": [
    "ddi_type_counts = sampled_data['DDI type'].value_counts()\n",
    "ddi_types = ddi_type_counts.index\n",
    "counts = ddi_type_counts.values\n",
    "colors = ['blue', 'green', 'red', 'purple', 'orange']  \n",
    "plt.figure(figsize=(12, 6)) \n",
    "plt.bar(ddi_types, counts, color=colors)\n",
    "plt.xlabel('DDI type')\n",
    "plt.ylabel('Number')\n",
    "plt.title('DDI Type Distribution in Dataset')\n",
    "plt.xticks(rotation=90)  \n",
    "plt.show()"
   ]
  },
  {
   "cell_type": "code",
   "execution_count": 23,
   "id": "a9af81c2",
   "metadata": {},
   "outputs": [],
   "source": [
    "data = sampled_data['Structurally Similar Drug']\n",
    "\n",
    "df = pd.DataFrame(data)\n",
    "\n",
    "df['Drug1'] = df['Structurally Similar Drug'].str.extract(r'(DB\\d+)')\n",
    "df['Drug2'] = df['Structurally Similar Drug'].str.extract(r'-> (DB\\d+)')\n",
    "\n",
    "df['Info1'] = df['Structurally Similar Drug'].str.extract(r'\\((.*?)\\);')"
   ]
  },
  {
   "cell_type": "code",
   "execution_count": 24,
   "id": "d3817662",
   "metadata": {
    "scrolled": true
   },
   "outputs": [
    {
     "data": {
      "text/html": [
       "<div>\n",
       "<style scoped>\n",
       "    .dataframe tbody tr th:only-of-type {\n",
       "        vertical-align: middle;\n",
       "    }\n",
       "\n",
       "    .dataframe tbody tr th {\n",
       "        vertical-align: top;\n",
       "    }\n",
       "\n",
       "    .dataframe thead th {\n",
       "        text-align: right;\n",
       "    }\n",
       "</style>\n",
       "<table border=\"1\" class=\"dataframe\">\n",
       "  <thead>\n",
       "    <tr style=\"text-align: right;\">\n",
       "      <th></th>\n",
       "      <th>Structurally Similar Drug</th>\n",
       "      <th>Drug1</th>\n",
       "      <th>Drug2</th>\n",
       "      <th>Info1</th>\n",
       "    </tr>\n",
       "  </thead>\n",
       "  <tbody>\n",
       "    <tr>\n",
       "      <th>0</th>\n",
       "      <td>DB08896 -&gt; DB00398(P15056|P04049|P35916|P35968...</td>\n",
       "      <td>DB08896</td>\n",
       "      <td>DB00398</td>\n",
       "      <td>NaN</td>\n",
       "    </tr>\n",
       "    <tr>\n",
       "      <th>1</th>\n",
       "      <td>DB00418 -&gt; DB00474(P14867);DB01353(P14867|P478...</td>\n",
       "      <td>DB00418</td>\n",
       "      <td>DB00474</td>\n",
       "      <td>P14867</td>\n",
       "    </tr>\n",
       "    <tr>\n",
       "      <th>2</th>\n",
       "      <td>DB00708 -&gt; DB00813(P35372|P41143);DB00899(P353...</td>\n",
       "      <td>DB00708</td>\n",
       "      <td>DB00813</td>\n",
       "      <td>P35372|P41143</td>\n",
       "    </tr>\n",
       "    <tr>\n",
       "      <th>3</th>\n",
       "      <td>DB00635 -&gt; DB00443(P04150);DB00959(P04150);DB0...</td>\n",
       "      <td>DB00635</td>\n",
       "      <td>DB00443</td>\n",
       "      <td>P04150</td>\n",
       "    </tr>\n",
       "    <tr>\n",
       "      <th>4</th>\n",
       "      <td>DB00681 -&gt; DB00826(None);DB00646(None)</td>\n",
       "      <td>DB00681</td>\n",
       "      <td>DB00826</td>\n",
       "      <td>None</td>\n",
       "    </tr>\n",
       "  </tbody>\n",
       "</table>\n",
       "</div>"
      ],
      "text/plain": [
       "                           Structurally Similar Drug    Drug1    Drug2  \\\n",
       "0  DB08896 -> DB00398(P15056|P04049|P35916|P35968...  DB08896  DB00398   \n",
       "1  DB00418 -> DB00474(P14867);DB01353(P14867|P478...  DB00418  DB00474   \n",
       "2  DB00708 -> DB00813(P35372|P41143);DB00899(P353...  DB00708  DB00813   \n",
       "3  DB00635 -> DB00443(P04150);DB00959(P04150);DB0...  DB00635  DB00443   \n",
       "4             DB00681 -> DB00826(None);DB00646(None)  DB00681  DB00826   \n",
       "\n",
       "           Info1  \n",
       "0            NaN  \n",
       "1         P14867  \n",
       "2  P35372|P41143  \n",
       "3         P04150  \n",
       "4           None  "
      ]
     },
     "execution_count": 24,
     "metadata": {},
     "output_type": "execute_result"
    }
   ],
   "source": [
    "df.head()"
   ]
  },
  {
   "cell_type": "code",
   "execution_count": 25,
   "id": "17d06213",
   "metadata": {},
   "outputs": [
    {
     "data": {
      "text/html": [
       "<div>\n",
       "<style scoped>\n",
       "    .dataframe tbody tr th:only-of-type {\n",
       "        vertical-align: middle;\n",
       "    }\n",
       "\n",
       "    .dataframe tbody tr th {\n",
       "        vertical-align: top;\n",
       "    }\n",
       "\n",
       "    .dataframe thead th {\n",
       "        text-align: right;\n",
       "    }\n",
       "</style>\n",
       "<table border=\"1\" class=\"dataframe\">\n",
       "  <thead>\n",
       "    <tr style=\"text-align: right;\">\n",
       "      <th></th>\n",
       "      <th>Drug1</th>\n",
       "      <th>Drug2</th>\n",
       "    </tr>\n",
       "  </thead>\n",
       "  <tbody>\n",
       "    <tr>\n",
       "      <th>0</th>\n",
       "      <td>DB08896</td>\n",
       "      <td>DB00398</td>\n",
       "    </tr>\n",
       "    <tr>\n",
       "      <th>1</th>\n",
       "      <td>DB00418</td>\n",
       "      <td>DB00474</td>\n",
       "    </tr>\n",
       "    <tr>\n",
       "      <th>2</th>\n",
       "      <td>DB00708</td>\n",
       "      <td>DB00813</td>\n",
       "    </tr>\n",
       "    <tr>\n",
       "      <th>3</th>\n",
       "      <td>DB00635</td>\n",
       "      <td>DB00443</td>\n",
       "    </tr>\n",
       "    <tr>\n",
       "      <th>4</th>\n",
       "      <td>DB00681</td>\n",
       "      <td>DB00826</td>\n",
       "    </tr>\n",
       "    <tr>\n",
       "      <th>...</th>\n",
       "      <td>...</td>\n",
       "      <td>...</td>\n",
       "    </tr>\n",
       "    <tr>\n",
       "      <th>191995</th>\n",
       "      <td>DB00462</td>\n",
       "      <td>DB09300</td>\n",
       "    </tr>\n",
       "    <tr>\n",
       "      <th>191996</th>\n",
       "      <td>DB06787</td>\n",
       "      <td>DB00376</td>\n",
       "    </tr>\n",
       "    <tr>\n",
       "      <th>191997</th>\n",
       "      <td>DB09300</td>\n",
       "      <td>DB00747</td>\n",
       "    </tr>\n",
       "    <tr>\n",
       "      <th>191998</th>\n",
       "      <td>DB01708</td>\n",
       "      <td>DB00741</td>\n",
       "    </tr>\n",
       "    <tr>\n",
       "      <th>191999</th>\n",
       "      <td>DB09396</td>\n",
       "      <td>DB00647</td>\n",
       "    </tr>\n",
       "  </tbody>\n",
       "</table>\n",
       "<p>192000 rows × 2 columns</p>\n",
       "</div>"
      ],
      "text/plain": [
       "          Drug1    Drug2\n",
       "0       DB08896  DB00398\n",
       "1       DB00418  DB00474\n",
       "2       DB00708  DB00813\n",
       "3       DB00635  DB00443\n",
       "4       DB00681  DB00826\n",
       "...         ...      ...\n",
       "191995  DB00462  DB09300\n",
       "191996  DB06787  DB00376\n",
       "191997  DB09300  DB00747\n",
       "191998  DB01708  DB00741\n",
       "191999  DB09396  DB00647\n",
       "\n",
       "[192000 rows x 2 columns]"
      ]
     },
     "execution_count": 25,
     "metadata": {},
     "output_type": "execute_result"
    }
   ],
   "source": [
    "df[['Drug1','Drug2']]"
   ]
  },
  {
   "cell_type": "code",
   "execution_count": 26,
   "id": "07e1a825",
   "metadata": {},
   "outputs": [],
   "source": [
    "sampled_data[['Drug1','Drug2']] = df[['Drug1','Drug2']]"
   ]
  },
  {
   "cell_type": "code",
   "execution_count": 27,
   "id": "397f4459",
   "metadata": {},
   "outputs": [
    {
     "data": {
      "text/plain": [
       "(192000, 8)"
      ]
     },
     "execution_count": 27,
     "metadata": {},
     "output_type": "execute_result"
    }
   ],
   "source": [
    "sampled_data.shape"
   ]
  },
  {
   "cell_type": "code",
   "execution_count": 28,
   "id": "33cfbd46",
   "metadata": {
    "scrolled": true
   },
   "outputs": [
    {
     "data": {
      "text/html": [
       "<div>\n",
       "<style scoped>\n",
       "    .dataframe tbody tr th:only-of-type {\n",
       "        vertical-align: middle;\n",
       "    }\n",
       "\n",
       "    .dataframe tbody tr th {\n",
       "        vertical-align: top;\n",
       "    }\n",
       "\n",
       "    .dataframe thead th {\n",
       "        text-align: right;\n",
       "    }\n",
       "</style>\n",
       "<table border=\"1\" class=\"dataframe\">\n",
       "  <thead>\n",
       "    <tr style=\"text-align: right;\">\n",
       "      <th></th>\n",
       "      <th>DDI type</th>\n",
       "      <th>DeepDDI Output Sentence</th>\n",
       "      <th>Output Neuron Activity</th>\n",
       "      <th>S-score by Huang et al. (2013)</th>\n",
       "      <th>Structurally Similar Drug</th>\n",
       "      <th>General sentence structure</th>\n",
       "      <th>Drug1</th>\n",
       "      <th>Drug2</th>\n",
       "    </tr>\n",
       "  </thead>\n",
       "  <tbody>\n",
       "    <tr>\n",
       "      <th>191995</th>\n",
       "      <td>49</td>\n",
       "      <td>The risk or severity of adverse effects can be...</td>\n",
       "      <td>0.999707</td>\n",
       "      <td>0.640234</td>\n",
       "      <td>DB00462 -&gt; DB09300(P20309);DB01409(P20309);DB0...</td>\n",
       "      <td>Drug a may increase the antipsychotic activiti...</td>\n",
       "      <td>DB00462</td>\n",
       "      <td>DB09300</td>\n",
       "    </tr>\n",
       "    <tr>\n",
       "      <th>191996</th>\n",
       "      <td>49</td>\n",
       "      <td>The risk or severity of adverse effects can be...</td>\n",
       "      <td>0.967496</td>\n",
       "      <td>NaN</td>\n",
       "      <td>DB06787 -&gt; DB00376(P11229);DB00810(P11229|Q158...</td>\n",
       "      <td>Drug a may increase the antipsychotic activiti...</td>\n",
       "      <td>DB06787</td>\n",
       "      <td>DB00376</td>\n",
       "    </tr>\n",
       "    <tr>\n",
       "      <th>191997</th>\n",
       "      <td>49</td>\n",
       "      <td>The risk or severity of adverse effects can be...</td>\n",
       "      <td>0.998757</td>\n",
       "      <td>1.414214</td>\n",
       "      <td>DB09300 -&gt; DB00747(P11229);DB00462(P11229|P081...</td>\n",
       "      <td>Drug a may increase the antipsychotic activiti...</td>\n",
       "      <td>DB09300</td>\n",
       "      <td>DB00747</td>\n",
       "    </tr>\n",
       "    <tr>\n",
       "      <th>191998</th>\n",
       "      <td>49</td>\n",
       "      <td>The risk or severity of adverse effects can be...</td>\n",
       "      <td>0.980797</td>\n",
       "      <td>NaN</td>\n",
       "      <td>DB01708 -&gt; DB00741(P04150|P04083);DB00396(P064...</td>\n",
       "      <td>Drug a may increase the antipsychotic activiti...</td>\n",
       "      <td>DB01708</td>\n",
       "      <td>DB00741</td>\n",
       "    </tr>\n",
       "    <tr>\n",
       "      <th>191999</th>\n",
       "      <td>49</td>\n",
       "      <td>The risk or severity of adverse effects can be...</td>\n",
       "      <td>0.998015</td>\n",
       "      <td>NaN</td>\n",
       "      <td>DB09396 -&gt; DB00647(P35372|P41143|P41145)</td>\n",
       "      <td>Drug a may increase the antipsychotic activiti...</td>\n",
       "      <td>DB09396</td>\n",
       "      <td>DB00647</td>\n",
       "    </tr>\n",
       "  </tbody>\n",
       "</table>\n",
       "</div>"
      ],
      "text/plain": [
       "       DDI type                            DeepDDI Output Sentence  \\\n",
       "191995       49  The risk or severity of adverse effects can be...   \n",
       "191996       49  The risk or severity of adverse effects can be...   \n",
       "191997       49  The risk or severity of adverse effects can be...   \n",
       "191998       49  The risk or severity of adverse effects can be...   \n",
       "191999       49  The risk or severity of adverse effects can be...   \n",
       "\n",
       "       Output Neuron Activity S-score by Huang et al. (2013)  \\\n",
       "191995               0.999707                       0.640234   \n",
       "191996               0.967496                            NaN   \n",
       "191997               0.998757                       1.414214   \n",
       "191998               0.980797                            NaN   \n",
       "191999               0.998015                            NaN   \n",
       "\n",
       "                                Structurally Similar Drug  \\\n",
       "191995  DB00462 -> DB09300(P20309);DB01409(P20309);DB0...   \n",
       "191996  DB06787 -> DB00376(P11229);DB00810(P11229|Q158...   \n",
       "191997  DB09300 -> DB00747(P11229);DB00462(P11229|P081...   \n",
       "191998  DB01708 -> DB00741(P04150|P04083);DB00396(P064...   \n",
       "191999           DB09396 -> DB00647(P35372|P41143|P41145)   \n",
       "\n",
       "                               General sentence structure    Drug1    Drug2  \n",
       "191995  Drug a may increase the antipsychotic activiti...  DB00462  DB09300  \n",
       "191996  Drug a may increase the antipsychotic activiti...  DB06787  DB00376  \n",
       "191997  Drug a may increase the antipsychotic activiti...  DB09300  DB00747  \n",
       "191998  Drug a may increase the antipsychotic activiti...  DB01708  DB00741  \n",
       "191999  Drug a may increase the antipsychotic activiti...  DB09396  DB00647  "
      ]
     },
     "execution_count": 28,
     "metadata": {},
     "output_type": "execute_result"
    }
   ],
   "source": [
    "sampled_data.tail()"
   ]
  },
  {
   "cell_type": "code",
   "execution_count": 29,
   "id": "1ae4da42",
   "metadata": {},
   "outputs": [],
   "source": [
    "def replace_a_b(text, drug1, drug2):\n",
    "    if isinstance(text, str):\n",
    "        text = text.replace(' a ', f' {drug1} ')\n",
    "        text = text.replace(' b ', f' {drug2} ')\n",
    "    return text\n",
    "\n",
    "sampled_data['General sentence structure'] = sampled_data.apply(lambda row: replace_a_b(row['General sentence structure'], row['Drug1'], row['Drug2']), axis=1)\n"
   ]
  },
  {
   "cell_type": "code",
   "execution_count": 30,
   "id": "b24a1639",
   "metadata": {},
   "outputs": [],
   "source": [
    "drug_pairs = sampled_data.drop(['Structurally Similar Drug','S-score by Huang et al. (2013)'], axis=1)"
   ]
  },
  {
   "cell_type": "code",
   "execution_count": 31,
   "id": "20b6470f",
   "metadata": {},
   "outputs": [
    {
     "data": {
      "text/plain": [
       "DDI type                      0\n",
       "DeepDDI Output Sentence       0\n",
       "Output Neuron Activity        0\n",
       "General sentence structure    0\n",
       "Drug1                         0\n",
       "Drug2                         0\n",
       "dtype: int64"
      ]
     },
     "execution_count": 31,
     "metadata": {},
     "output_type": "execute_result"
    }
   ],
   "source": [
    "drug_pairs.isna().sum()"
   ]
  },
  {
   "cell_type": "code",
   "execution_count": 32,
   "id": "06aadcd6",
   "metadata": {},
   "outputs": [
    {
     "data": {
      "text/plain": [
       "(192000, 6)"
      ]
     },
     "execution_count": 32,
     "metadata": {},
     "output_type": "execute_result"
    }
   ],
   "source": [
    "drug_pairs.shape"
   ]
  },
  {
   "cell_type": "code",
   "execution_count": 33,
   "id": "42bba39c",
   "metadata": {},
   "outputs": [
    {
     "data": {
      "text/html": [
       "<div>\n",
       "<style scoped>\n",
       "    .dataframe tbody tr th:only-of-type {\n",
       "        vertical-align: middle;\n",
       "    }\n",
       "\n",
       "    .dataframe tbody tr th {\n",
       "        vertical-align: top;\n",
       "    }\n",
       "\n",
       "    .dataframe thead th {\n",
       "        text-align: right;\n",
       "    }\n",
       "</style>\n",
       "<table border=\"1\" class=\"dataframe\">\n",
       "  <thead>\n",
       "    <tr style=\"text-align: right;\">\n",
       "      <th></th>\n",
       "      <th>DDI type</th>\n",
       "      <th>DeepDDI Output Sentence</th>\n",
       "      <th>Output Neuron Activity</th>\n",
       "      <th>General sentence structure</th>\n",
       "      <th>Drug1</th>\n",
       "      <th>Drug2</th>\n",
       "    </tr>\n",
       "  </thead>\n",
       "  <tbody>\n",
       "    <tr>\n",
       "      <th>0</th>\n",
       "      <td>49</td>\n",
       "      <td>The risk or severity of adverse effects can be...</td>\n",
       "      <td>0.998408</td>\n",
       "      <td>Drug DB08896 may increase the antipsychotic ac...</td>\n",
       "      <td>DB08896</td>\n",
       "      <td>DB00398</td>\n",
       "    </tr>\n",
       "    <tr>\n",
       "      <th>1</th>\n",
       "      <td>49</td>\n",
       "      <td>The risk or severity of adverse effects can be...</td>\n",
       "      <td>0.998893</td>\n",
       "      <td>Drug DB00418 may increase the antipsychotic ac...</td>\n",
       "      <td>DB00418</td>\n",
       "      <td>DB00474</td>\n",
       "    </tr>\n",
       "    <tr>\n",
       "      <th>2</th>\n",
       "      <td>49</td>\n",
       "      <td>The risk or severity of adverse effects can be...</td>\n",
       "      <td>0.999307</td>\n",
       "      <td>Drug DB00708 may increase the antipsychotic ac...</td>\n",
       "      <td>DB00708</td>\n",
       "      <td>DB00813</td>\n",
       "    </tr>\n",
       "    <tr>\n",
       "      <th>3</th>\n",
       "      <td>49</td>\n",
       "      <td>The risk or severity of adverse effects can be...</td>\n",
       "      <td>0.99935</td>\n",
       "      <td>Drug DB00635 may increase the antipsychotic ac...</td>\n",
       "      <td>DB00635</td>\n",
       "      <td>DB00443</td>\n",
       "    </tr>\n",
       "    <tr>\n",
       "      <th>4</th>\n",
       "      <td>49</td>\n",
       "      <td>The risk or severity of adverse effects can be...</td>\n",
       "      <td>0.996426</td>\n",
       "      <td>Drug DB00681 may increase the antipsychotic ac...</td>\n",
       "      <td>DB00681</td>\n",
       "      <td>DB00826</td>\n",
       "    </tr>\n",
       "  </tbody>\n",
       "</table>\n",
       "</div>"
      ],
      "text/plain": [
       "  DDI type                            DeepDDI Output Sentence  \\\n",
       "0       49  The risk or severity of adverse effects can be...   \n",
       "1       49  The risk or severity of adverse effects can be...   \n",
       "2       49  The risk or severity of adverse effects can be...   \n",
       "3       49  The risk or severity of adverse effects can be...   \n",
       "4       49  The risk or severity of adverse effects can be...   \n",
       "\n",
       "  Output Neuron Activity                         General sentence structure  \\\n",
       "0               0.998408  Drug DB08896 may increase the antipsychotic ac...   \n",
       "1               0.998893  Drug DB00418 may increase the antipsychotic ac...   \n",
       "2               0.999307  Drug DB00708 may increase the antipsychotic ac...   \n",
       "3                0.99935  Drug DB00635 may increase the antipsychotic ac...   \n",
       "4               0.996426  Drug DB00681 may increase the antipsychotic ac...   \n",
       "\n",
       "     Drug1    Drug2  \n",
       "0  DB08896  DB00398  \n",
       "1  DB00418  DB00474  \n",
       "2  DB00708  DB00813  \n",
       "3  DB00635  DB00443  \n",
       "4  DB00681  DB00826  "
      ]
     },
     "execution_count": 33,
     "metadata": {},
     "output_type": "execute_result"
    }
   ],
   "source": [
    "drug_pairs.head()"
   ]
  },
  {
   "cell_type": "code",
   "execution_count": 34,
   "id": "06c712ff",
   "metadata": {},
   "outputs": [
    {
     "data": {
      "text/plain": [
       "DDI type\n",
       "49    68083\n",
       "25     2232\n",
       "85     2232\n",
       "53     2232\n",
       "10     2232\n",
       "      ...  \n",
       "26       26\n",
       "43       23\n",
       "44        7\n",
       "1         7\n",
       "42        2\n",
       "Name: count, Length: 86, dtype: int64"
      ]
     },
     "execution_count": 34,
     "metadata": {},
     "output_type": "execute_result"
    }
   ],
   "source": [
    "drug_pairs['DDI type'].value_counts()"
   ]
  },
  {
   "cell_type": "markdown",
   "id": "0f11db15",
   "metadata": {},
   "source": [
    "## Label Encoder"
   ]
  },
  {
   "cell_type": "code",
   "execution_count": 35,
   "id": "9826cce5",
   "metadata": {},
   "outputs": [],
   "source": [
    "# Create a LabelEncoder\n",
    "label_encoder = LabelEncoder()\n",
    "\n",
    "# Encode the 'DeepDDI Output Sentence' and 'Structurally Similar Drug' columns\n",
    "drug_pairs['General sentence structure_label'] = label_encoder.fit_transform(drug_pairs['General sentence structure'])\n",
    "drug_pairs['DeepDDI Output Sentence_label'] = label_encoder.fit_transform(drug_pairs['DeepDDI Output Sentence'])"
   ]
  },
  {
   "cell_type": "code",
   "execution_count": 36,
   "id": "3a9042e5",
   "metadata": {},
   "outputs": [
    {
     "data": {
      "text/plain": [
       "(192000, 8)"
      ]
     },
     "execution_count": 36,
     "metadata": {},
     "output_type": "execute_result"
    }
   ],
   "source": [
    "drug_pairs.shape"
   ]
  },
  {
   "cell_type": "code",
   "execution_count": 37,
   "id": "e697714a",
   "metadata": {
    "scrolled": true
   },
   "outputs": [
    {
     "data": {
      "text/html": [
       "<div>\n",
       "<style scoped>\n",
       "    .dataframe tbody tr th:only-of-type {\n",
       "        vertical-align: middle;\n",
       "    }\n",
       "\n",
       "    .dataframe tbody tr th {\n",
       "        vertical-align: top;\n",
       "    }\n",
       "\n",
       "    .dataframe thead th {\n",
       "        text-align: right;\n",
       "    }\n",
       "</style>\n",
       "<table border=\"1\" class=\"dataframe\">\n",
       "  <thead>\n",
       "    <tr style=\"text-align: right;\">\n",
       "      <th></th>\n",
       "      <th>DDI type</th>\n",
       "      <th>DeepDDI Output Sentence</th>\n",
       "      <th>Output Neuron Activity</th>\n",
       "      <th>General sentence structure</th>\n",
       "      <th>Drug1</th>\n",
       "      <th>Drug2</th>\n",
       "      <th>General sentence structure_label</th>\n",
       "      <th>DeepDDI Output Sentence_label</th>\n",
       "    </tr>\n",
       "  </thead>\n",
       "  <tbody>\n",
       "    <tr>\n",
       "      <th>0</th>\n",
       "      <td>49</td>\n",
       "      <td>The risk or severity of adverse effects can be...</td>\n",
       "      <td>0.998408</td>\n",
       "      <td>Drug DB08896 may increase the antipsychotic ac...</td>\n",
       "      <td>DB08896</td>\n",
       "      <td>DB00398</td>\n",
       "      <td>8394</td>\n",
       "      <td>155039</td>\n",
       "    </tr>\n",
       "    <tr>\n",
       "      <th>1</th>\n",
       "      <td>49</td>\n",
       "      <td>The risk or severity of adverse effects can be...</td>\n",
       "      <td>0.998893</td>\n",
       "      <td>Drug DB00418 may increase the antipsychotic ac...</td>\n",
       "      <td>DB00418</td>\n",
       "      <td>DB00474</td>\n",
       "      <td>1476</td>\n",
       "      <td>138669</td>\n",
       "    </tr>\n",
       "    <tr>\n",
       "      <th>2</th>\n",
       "      <td>49</td>\n",
       "      <td>The risk or severity of adverse effects can be...</td>\n",
       "      <td>0.999307</td>\n",
       "      <td>Drug DB00708 may increase the antipsychotic ac...</td>\n",
       "      <td>DB00708</td>\n",
       "      <td>DB00813</td>\n",
       "      <td>3039</td>\n",
       "      <td>122698</td>\n",
       "    </tr>\n",
       "    <tr>\n",
       "      <th>3</th>\n",
       "      <td>49</td>\n",
       "      <td>The risk or severity of adverse effects can be...</td>\n",
       "      <td>0.99935</td>\n",
       "      <td>Drug DB00635 may increase the antipsychotic ac...</td>\n",
       "      <td>DB00635</td>\n",
       "      <td>DB00443</td>\n",
       "      <td>2617</td>\n",
       "      <td>139846</td>\n",
       "    </tr>\n",
       "    <tr>\n",
       "      <th>4</th>\n",
       "      <td>49</td>\n",
       "      <td>The risk or severity of adverse effects can be...</td>\n",
       "      <td>0.996426</td>\n",
       "      <td>Drug DB00681 may increase the antipsychotic ac...</td>\n",
       "      <td>DB00681</td>\n",
       "      <td>DB00826</td>\n",
       "      <td>2876</td>\n",
       "      <td>121773</td>\n",
       "    </tr>\n",
       "  </tbody>\n",
       "</table>\n",
       "</div>"
      ],
      "text/plain": [
       "  DDI type                            DeepDDI Output Sentence  \\\n",
       "0       49  The risk or severity of adverse effects can be...   \n",
       "1       49  The risk or severity of adverse effects can be...   \n",
       "2       49  The risk or severity of adverse effects can be...   \n",
       "3       49  The risk or severity of adverse effects can be...   \n",
       "4       49  The risk or severity of adverse effects can be...   \n",
       "\n",
       "  Output Neuron Activity                         General sentence structure  \\\n",
       "0               0.998408  Drug DB08896 may increase the antipsychotic ac...   \n",
       "1               0.998893  Drug DB00418 may increase the antipsychotic ac...   \n",
       "2               0.999307  Drug DB00708 may increase the antipsychotic ac...   \n",
       "3                0.99935  Drug DB00635 may increase the antipsychotic ac...   \n",
       "4               0.996426  Drug DB00681 may increase the antipsychotic ac...   \n",
       "\n",
       "     Drug1    Drug2  General sentence structure_label  \\\n",
       "0  DB08896  DB00398                              8394   \n",
       "1  DB00418  DB00474                              1476   \n",
       "2  DB00708  DB00813                              3039   \n",
       "3  DB00635  DB00443                              2617   \n",
       "4  DB00681  DB00826                              2876   \n",
       "\n",
       "   DeepDDI Output Sentence_label  \n",
       "0                         155039  \n",
       "1                         138669  \n",
       "2                         122698  \n",
       "3                         139846  \n",
       "4                         121773  "
      ]
     },
     "execution_count": 37,
     "metadata": {},
     "output_type": "execute_result"
    }
   ],
   "source": [
    "drug_pairs.head()"
   ]
  },
  {
   "cell_type": "code",
   "execution_count": 38,
   "id": "65748010",
   "metadata": {},
   "outputs": [
    {
     "data": {
      "text/plain": [
       "DDI type\n",
       "49    68083\n",
       "25     2232\n",
       "85     2232\n",
       "53     2232\n",
       "10     2232\n",
       "      ...  \n",
       "26       26\n",
       "43       23\n",
       "44        7\n",
       "1         7\n",
       "42        2\n",
       "Name: count, Length: 86, dtype: int64"
      ]
     },
     "execution_count": 38,
     "metadata": {},
     "output_type": "execute_result"
    }
   ],
   "source": [
    "drug_pairs['DDI type'].value_counts()"
   ]
  },
  {
   "cell_type": "markdown",
   "id": "c278b4d4",
   "metadata": {},
   "source": [
    "## Spliting the Data "
   ]
  },
  {
   "cell_type": "code",
   "execution_count": 39,
   "id": "cbcdc5b4",
   "metadata": {},
   "outputs": [],
   "source": [
    "x = drug_pairs[['General sentence structure_label','DeepDDI Output Sentence_label','Output Neuron Activity']]\n",
    "y = drug_pairs['DDI type']"
   ]
  },
  {
   "cell_type": "markdown",
   "id": "c12fc1c6",
   "metadata": {},
   "source": [
    "## Train Test Split"
   ]
  },
  {
   "cell_type": "code",
   "execution_count": 40,
   "id": "9818f68b",
   "metadata": {},
   "outputs": [],
   "source": [
    "x_train, x_test, y_train, y_test = train_test_split(x, y, test_size=0.2, random_state=2)"
   ]
  },
  {
   "cell_type": "code",
   "execution_count": 41,
   "id": "c9073043",
   "metadata": {
    "scrolled": true
   },
   "outputs": [
    {
     "name": "stdout",
     "output_type": "stream",
     "text": [
      "(192000, 3) (153600, 3) (38400, 3)\n"
     ]
    }
   ],
   "source": [
    "print(x.shape,x_train.shape,x_test.shape)"
   ]
  },
  {
   "cell_type": "code",
   "execution_count": 42,
   "id": "ba71e441",
   "metadata": {},
   "outputs": [
    {
     "name": "stdout",
     "output_type": "stream",
     "text": [
      "General sentence structure_label     int32\n",
      "DeepDDI Output Sentence_label        int32\n",
      "Output Neuron Activity              object\n",
      "dtype: object\n"
     ]
    }
   ],
   "source": [
    "print(x_train.dtypes)"
   ]
  },
  {
   "cell_type": "code",
   "execution_count": 43,
   "id": "6e6d04eb",
   "metadata": {},
   "outputs": [
    {
     "name": "stdout",
     "output_type": "stream",
     "text": [
      "object\n"
     ]
    }
   ],
   "source": [
    "print(y_train.dtypes)"
   ]
  },
  {
   "cell_type": "markdown",
   "id": "62f758b1",
   "metadata": {},
   "source": [
    "## Random Forest "
   ]
  },
  {
   "cell_type": "code",
   "execution_count": 44,
   "id": "7184f90f",
   "metadata": {},
   "outputs": [],
   "source": [
    "RFC = RandomForestRegressor()"
   ]
  },
  {
   "cell_type": "code",
   "execution_count": 45,
   "id": "23b09058",
   "metadata": {},
   "outputs": [
    {
     "data": {
      "text/html": [
       "<style>#sk-container-id-1 {color: black;}#sk-container-id-1 pre{padding: 0;}#sk-container-id-1 div.sk-toggleable {background-color: white;}#sk-container-id-1 label.sk-toggleable__label {cursor: pointer;display: block;width: 100%;margin-bottom: 0;padding: 0.3em;box-sizing: border-box;text-align: center;}#sk-container-id-1 label.sk-toggleable__label-arrow:before {content: \"▸\";float: left;margin-right: 0.25em;color: #696969;}#sk-container-id-1 label.sk-toggleable__label-arrow:hover:before {color: black;}#sk-container-id-1 div.sk-estimator:hover label.sk-toggleable__label-arrow:before {color: black;}#sk-container-id-1 div.sk-toggleable__content {max-height: 0;max-width: 0;overflow: hidden;text-align: left;background-color: #f0f8ff;}#sk-container-id-1 div.sk-toggleable__content pre {margin: 0.2em;color: black;border-radius: 0.25em;background-color: #f0f8ff;}#sk-container-id-1 input.sk-toggleable__control:checked~div.sk-toggleable__content {max-height: 200px;max-width: 100%;overflow: auto;}#sk-container-id-1 input.sk-toggleable__control:checked~label.sk-toggleable__label-arrow:before {content: \"▾\";}#sk-container-id-1 div.sk-estimator input.sk-toggleable__control:checked~label.sk-toggleable__label {background-color: #d4ebff;}#sk-container-id-1 div.sk-label input.sk-toggleable__control:checked~label.sk-toggleable__label {background-color: #d4ebff;}#sk-container-id-1 input.sk-hidden--visually {border: 0;clip: rect(1px 1px 1px 1px);clip: rect(1px, 1px, 1px, 1px);height: 1px;margin: -1px;overflow: hidden;padding: 0;position: absolute;width: 1px;}#sk-container-id-1 div.sk-estimator {font-family: monospace;background-color: #f0f8ff;border: 1px dotted black;border-radius: 0.25em;box-sizing: border-box;margin-bottom: 0.5em;}#sk-container-id-1 div.sk-estimator:hover {background-color: #d4ebff;}#sk-container-id-1 div.sk-parallel-item::after {content: \"\";width: 100%;border-bottom: 1px solid gray;flex-grow: 1;}#sk-container-id-1 div.sk-label:hover label.sk-toggleable__label {background-color: #d4ebff;}#sk-container-id-1 div.sk-serial::before {content: \"\";position: absolute;border-left: 1px solid gray;box-sizing: border-box;top: 0;bottom: 0;left: 50%;z-index: 0;}#sk-container-id-1 div.sk-serial {display: flex;flex-direction: column;align-items: center;background-color: white;padding-right: 0.2em;padding-left: 0.2em;position: relative;}#sk-container-id-1 div.sk-item {position: relative;z-index: 1;}#sk-container-id-1 div.sk-parallel {display: flex;align-items: stretch;justify-content: center;background-color: white;position: relative;}#sk-container-id-1 div.sk-item::before, #sk-container-id-1 div.sk-parallel-item::before {content: \"\";position: absolute;border-left: 1px solid gray;box-sizing: border-box;top: 0;bottom: 0;left: 50%;z-index: -1;}#sk-container-id-1 div.sk-parallel-item {display: flex;flex-direction: column;z-index: 1;position: relative;background-color: white;}#sk-container-id-1 div.sk-parallel-item:first-child::after {align-self: flex-end;width: 50%;}#sk-container-id-1 div.sk-parallel-item:last-child::after {align-self: flex-start;width: 50%;}#sk-container-id-1 div.sk-parallel-item:only-child::after {width: 0;}#sk-container-id-1 div.sk-dashed-wrapped {border: 1px dashed gray;margin: 0 0.4em 0.5em 0.4em;box-sizing: border-box;padding-bottom: 0.4em;background-color: white;}#sk-container-id-1 div.sk-label label {font-family: monospace;font-weight: bold;display: inline-block;line-height: 1.2em;}#sk-container-id-1 div.sk-label-container {text-align: center;}#sk-container-id-1 div.sk-container {/* jupyter's `normalize.less` sets `[hidden] { display: none; }` but bootstrap.min.css set `[hidden] { display: none !important; }` so we also need the `!important` here to be able to override the default hidden behavior on the sphinx rendered scikit-learn.org. See: https://github.com/scikit-learn/scikit-learn/issues/21755 */display: inline-block !important;position: relative;}#sk-container-id-1 div.sk-text-repr-fallback {display: none;}</style><div id=\"sk-container-id-1\" class=\"sk-top-container\"><div class=\"sk-text-repr-fallback\"><pre>RandomForestRegressor()</pre><b>In a Jupyter environment, please rerun this cell to show the HTML representation or trust the notebook. <br />On GitHub, the HTML representation is unable to render, please try loading this page with nbviewer.org.</b></div><div class=\"sk-container\" hidden><div class=\"sk-item\"><div class=\"sk-estimator sk-toggleable\"><input class=\"sk-toggleable__control sk-hidden--visually\" id=\"sk-estimator-id-1\" type=\"checkbox\" checked><label for=\"sk-estimator-id-1\" class=\"sk-toggleable__label sk-toggleable__label-arrow\">RandomForestRegressor</label><div class=\"sk-toggleable__content\"><pre>RandomForestRegressor()</pre></div></div></div></div></div>"
      ],
      "text/plain": [
       "RandomForestRegressor()"
      ]
     },
     "execution_count": 45,
     "metadata": {},
     "output_type": "execute_result"
    }
   ],
   "source": [
    "RFC.fit(x_train, y_train)"
   ]
  },
  {
   "cell_type": "code",
   "execution_count": 46,
   "id": "18f2ce7d",
   "metadata": {},
   "outputs": [],
   "source": [
    "x_train_prediction = RFC.predict(x_train)"
   ]
  },
  {
   "cell_type": "code",
   "execution_count": 47,
   "id": "2079f91c",
   "metadata": {},
   "outputs": [],
   "source": [
    "x_test_prediction = RFC.predict(x_test)"
   ]
  },
  {
   "cell_type": "markdown",
   "id": "4ffb7315",
   "metadata": {},
   "source": [
    "## Model Evaluation on Random Forest"
   ]
  },
  {
   "cell_type": "code",
   "execution_count": 48,
   "id": "d92eb766",
   "metadata": {},
   "outputs": [
    {
     "name": "stdout",
     "output_type": "stream",
     "text": [
      "R Squared Error For Training Data :  0.99313530817646\n"
     ]
    }
   ],
   "source": [
    "# Accuracy score for prediction on training data\n",
    "# R Squared Error\n",
    "score_1 =metrics.r2_score(y_train,x_train_prediction)\n",
    "print('R Squared Error For Training Data : ',score_1)"
   ]
  },
  {
   "cell_type": "code",
   "execution_count": 49,
   "id": "08bdbeb9",
   "metadata": {},
   "outputs": [
    {
     "name": "stdout",
     "output_type": "stream",
     "text": [
      "R Squared Error For test Data :  0.9508105344909968\n"
     ]
    }
   ],
   "source": [
    "# Accuracy score for prediction on test data\n",
    "# R Squared Error\n",
    "score_2 =metrics.r2_score(y_test,x_test_prediction)\n",
    "print('R Squared Error For test Data : ',score_2)"
   ]
  },
  {
   "cell_type": "markdown",
   "id": "2560af22",
   "metadata": {},
   "source": [
    "## Cross Validation on Random Forest"
   ]
  },
  {
   "cell_type": "code",
   "execution_count": 51,
   "id": "e0bf2788",
   "metadata": {},
   "outputs": [],
   "source": [
    "CV_scores_RFC = cross_val_score(RandomForestRegressor(), x, y, cv=5, scoring='r2')"
   ]
  },
  {
   "cell_type": "code",
   "execution_count": 52,
   "id": "b3257f6f",
   "metadata": {},
   "outputs": [
    {
     "name": "stdout",
     "output_type": "stream",
     "text": [
      "[ 0.36410017  0.25257706  0.23984322 -0.14368246  0.        ]\n"
     ]
    }
   ],
   "source": [
    "print(CV_scores_RFC)"
   ]
  },
  {
   "cell_type": "code",
   "execution_count": 58,
   "id": "dd405df1",
   "metadata": {},
   "outputs": [
    {
     "name": "stdout",
     "output_type": "stream",
     "text": [
      "[ 63.58998287  74.74229391  76.0156778  114.36824578 100.        ]\n"
     ]
    }
   ],
   "source": [
    "CV_scores_RFC_2 = (1-CV_scores_RFC)*100\n",
    "print(CV_scores_RFC_2)"
   ]
  },
  {
   "cell_type": "code",
   "execution_count": 56,
   "id": "e92f3713",
   "metadata": {},
   "outputs": [
    {
     "name": "stdout",
     "output_type": "stream",
     "text": [
      "85.74324007208298\n"
     ]
    }
   ],
   "source": [
    "CV_scores_RFC_mean = sum(CV_scores_RFC)/len(CV_scores_RFC)\n",
    "CV_scores_RFC_mean = (1-CV_scores_RFC_mean)*100\n",
    "print(CV_scores_RFC_mean)"
   ]
  },
  {
   "cell_type": "code",
   "execution_count": 61,
   "id": "0565158d",
   "metadata": {},
   "outputs": [
    {
     "data": {
      "image/png": "[encoded data removed]",
      "text/plain": [
       "<Figure size 640x480 with 1 Axes>"
      ]
     },
     "metadata": {},
     "output_type": "display_data"
    }
   ],
   "source": [
    "# Create a bar plot\n",
    "plt.bar(range(len(CV_scores_RFC_2)), CV_scores_RFC_2, tick_label=['Fold 1', 'Fold 2', 'Fold 3', 'Fold 4', 'Fold 5'])\n",
    "plt.xlabel('Fold')\n",
    "plt.ylabel('R-squared Score')\n",
    "plt.title('CV_Random Forest')\n",
    "plt.show()"
   ]
  },
  {
   "cell_type": "markdown",
   "id": "f82ec200",
   "metadata": {},
   "source": [
    "## Building the Neural Network "
   ]
  },
  {
   "cell_type": "code",
   "execution_count": 62,
   "id": "8426e368",
   "metadata": {},
   "outputs": [],
   "source": [
    "x_train['Output Neuron Activity'] = x_train['Output Neuron Activity'].astype(float)"
   ]
  },
  {
   "cell_type": "code",
   "execution_count": 63,
   "id": "635c73bb",
   "metadata": {},
   "outputs": [],
   "source": [
    "y_train = y_train.astype(int)"
   ]
  },
  {
   "cell_type": "code",
   "execution_count": 64,
   "id": "9afac4fc",
   "metadata": {
    "scrolled": true
   },
   "outputs": [
    {
     "name": "stdout",
     "output_type": "stream",
     "text": [
      "int32\n"
     ]
    }
   ],
   "source": [
    "print(y_train.dtypes)"
   ]
  },
  {
   "cell_type": "code",
   "execution_count": 65,
   "id": "5148a91d",
   "metadata": {},
   "outputs": [
    {
     "name": "stdout",
     "output_type": "stream",
     "text": [
      "General sentence structure_label      int32\n",
      "DeepDDI Output Sentence_label         int32\n",
      "Output Neuron Activity              float64\n",
      "dtype: object\n"
     ]
    }
   ],
   "source": [
    "print(x_train.dtypes)"
   ]
  },
  {
   "cell_type": "code",
   "execution_count": 70,
   "id": "5dc8dccd",
   "metadata": {},
   "outputs": [],
   "source": [
    "num_classes = 86  # The number of unique classes\n",
    "\n",
    "# Convert y_train to one-hot encoded format\n",
    "y_train_one_hot = tf.one_hot(y_train, depth=num_classes)\n",
    "y_test_one_hot = tf.one_hot(y_test, depth=num_classes)"
   ]
  },
  {
   "cell_type": "code",
   "execution_count": 66,
   "id": "12d9192c",
   "metadata": {},
   "outputs": [],
   "source": [
    "# importing the tensorflow & keras\n",
    "import tensorflow as tf\n",
    "tf.random.set_seed(3)\n",
    "from tensorflow import keras"
   ]
  },
  {
   "cell_type": "code",
   "execution_count": 71,
   "id": "e14b6e97",
   "metadata": {
    "scrolled": true
   },
   "outputs": [
    {
     "name": "stdout",
     "output_type": "stream",
     "text": [
      "Epoch 1/10\n",
      "4320/4320 [==============================] - 6s 1ms/step - loss: 518.5591 - mae: 0.0172 - val_loss: 174.3341 - val_mae: 0.0150\n",
      "Epoch 2/10\n",
      "4320/4320 [==============================] - 6s 1ms/step - loss: 146.6969 - mae: 0.0171 - val_loss: 118.7549 - val_mae: 0.0148\n",
      "Epoch 3/10\n",
      "4320/4320 [==============================] - 7s 2ms/step - loss: 81.2924 - mae: 0.0171 - val_loss: 47.8045 - val_mae: 0.0165\n",
      "Epoch 4/10\n",
      "4320/4320 [==============================] - 5s 1ms/step - loss: 32.4586 - mae: 0.0169 - val_loss: 16.2041 - val_mae: 0.0147\n",
      "Epoch 5/10\n",
      "4320/4320 [==============================] - 7s 2ms/step - loss: 13.0089 - mae: 0.0172 - val_loss: 4.6409 - val_mae: 0.0174\n",
      "Epoch 6/10\n",
      "4320/4320 [==============================] - 6s 1ms/step - loss: 3.6840 - mae: 0.0176 - val_loss: 2.9913 - val_mae: 0.0174\n",
      "Epoch 7/10\n",
      "4320/4320 [==============================] - 6s 1ms/step - loss: 2.9052 - mae: 0.0173 - val_loss: 2.8859 - val_mae: 0.0167\n",
      "Epoch 8/10\n",
      "4320/4320 [==============================] - 7s 2ms/step - loss: 2.7730 - mae: 0.0172 - val_loss: 2.7176 - val_mae: 0.0176\n",
      "Epoch 9/10\n",
      "4320/4320 [==============================] - 6s 1ms/step - loss: 2.6971 - mae: 0.0171 - val_loss: 2.7401 - val_mae: 0.0170\n",
      "Epoch 10/10\n",
      "4320/4320 [==============================] - 9s 2ms/step - loss: 2.6769 - mae: 0.0170 - val_loss: 2.6420 - val_mae: 0.0166\n"
     ]
    }
   ],
   "source": [
    "# Define the model and compile it outside the decorated function\n",
    "model = keras.Sequential([\n",
    "    keras.layers.Flatten(input_shape=(3,)),\n",
    "    keras.layers.Dense(20, activation='relu'),\n",
    "    keras.layers.Dense(86, activation='softmax')\n",
    "])\n",
    "\n",
    "model.compile(optimizer='adam', loss='categorical_crossentropy', metrics=['mae'])\n",
    "\n",
    "# Train the model\n",
    "history = model.fit(x_train, y_train_one_hot, validation_split=0.1, epochs=10)"
   ]
  },
  {
   "cell_type": "code",
   "execution_count": 79,
   "id": "7eb56fc5",
   "metadata": {},
   "outputs": [
    {
     "data": {
      "image/png": "[encoded data removed]",
      "text/plain": [
       "<Figure size 640x480 with 1 Axes>"
      ]
     },
     "metadata": {},
     "output_type": "display_data"
    }
   ],
   "source": [
    "mae_values = history.history['mae']\n",
    "# Calculate the percentage difference\n",
    "percentage_difference = [100 - (mae * 100) for mae in mae_values]\n",
    "epochs = range(1, len(mae_values) + 1)\n",
    "# Create a line plot\n",
    "plt.plot(epochs, percentage_difference)\n",
    "plt.title('Model DNN Accuracy')\n",
    "plt.xlabel('Epoch')\n",
    "plt.ylabel('Percentage Difference (%)')\n",
    "plt.legend(['Training Data'], loc='lower right')\n",
    "plt.show()"
   ]
  },
  {
   "cell_type": "code",
   "execution_count": 80,
   "id": "bb071bf1",
   "metadata": {},
   "outputs": [
    {
     "data": {
      "image/png": "[encoded data removed]",
      "text/plain": [
       "<Figure size 640x480 with 1 Axes>"
      ]
     },
     "metadata": {},
     "output_type": "display_data"
    }
   ],
   "source": [
    "# Create a bar plot for DNN\n",
    "mae_values = history.history['mae']\n",
    "percentage_difference = [100 - (mae * 100) for mae in mae_values]\n",
    "epochs = range(1, len(mae_values) + 1)\n",
    "plt.bar(epochs, percentage_difference)\n",
    "plt.title('Model DNN')\n",
    "plt.xlabel('Epoch')\n",
    "plt.ylabel('MAE')\n",
    "plt.show()"
   ]
  },
  {
   "cell_type": "code",
   "execution_count": 63,
   "id": "c2007741",
   "metadata": {},
   "outputs": [
    {
     "name": "stdout",
     "output_type": "stream",
     "text": [
      "1200/1200 [==============================] - 1s 1ms/step - loss: 3.3226 - mae: 0.0202\n"
     ]
    },
    {
     "data": {
      "text/plain": [
       "[3.3225622177124023, 0.020155899226665497]"
      ]
     },
     "execution_count": 63,
     "metadata": {},
     "output_type": "execute_result"
    }
   ],
   "source": [
    "# Testing the neural network\n",
    "model.evaluate(x_test, y_test_one_hot)"
   ]
  },
  {
   "cell_type": "markdown",
   "id": "023b3c96",
   "metadata": {},
   "source": [
    "## Building Recurrent Neural Networks "
   ]
  },
  {
   "cell_type": "code",
   "execution_count": 67,
   "id": "f9005d7b",
   "metadata": {},
   "outputs": [],
   "source": [
    "x_train = np.array( x_train)"
   ]
  },
  {
   "cell_type": "code",
   "execution_count": 68,
   "id": "e216abbc",
   "metadata": {},
   "outputs": [],
   "source": [
    "y_train = np.array(y_train)"
   ]
  },
  {
   "cell_type": "code",
   "execution_count": 69,
   "id": "b76528fe",
   "metadata": {},
   "outputs": [],
   "source": [
    "x_test = np.array(x_test, dtype=np.float32)\n",
    "y_test = np.array(y_test, dtype=np.float32)"
   ]
  },
  {
   "cell_type": "code",
   "execution_count": 75,
   "id": "a499b2f4",
   "metadata": {},
   "outputs": [],
   "source": [
    "model_rnn = keras.Sequential([\n",
    "    keras.layers.LSTM(64, return_sequences=True, input_shape=(x_train.shape[1], 1)),\n",
    "    keras.layers.LSTM(64),\n",
    "    keras.layers.Dense(1)  \n",
    "])\n",
    "\n",
    "model_rnn.compile(optimizer='adam', loss='mean_squared_error', metrics=['mae'])"
   ]
  },
  {
   "cell_type": "code",
   "execution_count": 76,
   "id": "b498e2c6",
   "metadata": {},
   "outputs": [
    {
     "name": "stdout",
     "output_type": "stream",
     "text": [
      "Epoch 1/5\n",
      "153600/153600 [==============================] - 573s 4ms/step - loss: 0.0115 - mae: 0.0229\n",
      "Epoch 2/5\n",
      "153600/153600 [==============================] - 603s 4ms/step - loss: 0.0115 - mae: 0.0229\n",
      "Epoch 3/5\n",
      "153600/153600 [==============================] - 603s 4ms/step - loss: 0.0115 - mae: 0.0229\n",
      "Epoch 4/5\n",
      "153600/153600 [==============================] - 606s 4ms/step - loss: 0.0115 - mae: 0.0229\n",
      "Epoch 5/5\n",
      "153600/153600 [==============================] - 612s 4ms/step - loss: 0.0115 - mae: 0.0229\n"
     ]
    },
    {
     "data": {
      "text/plain": [
       "<keras.src.callbacks.History at 0x262e03cf3d0>"
      ]
     },
     "execution_count": 76,
     "metadata": {},
     "output_type": "execute_result"
    }
   ],
   "source": [
    "# Training the RNN\n",
    "model_rnn.fit(x_train, y_train_one_hot, epochs=5, batch_size=1)"
   ]
  },
  {
   "cell_type": "code",
   "execution_count": 55,
   "id": "79e9e4b0",
   "metadata": {},
   "outputs": [
    {
     "name": "stdout",
     "output_type": "stream",
     "text": [
      "1200/1200 [==============================] - 7s 4ms/step - loss: 0.0436 - mae: 0.1791\n"
     ]
    },
    {
     "data": {
      "text/plain": [
       "[0.043573047965765, 0.17912697792053223]"
      ]
     },
     "execution_count": 55,
     "metadata": {},
     "output_type": "execute_result"
    }
   ],
   "source": [
    "# Testing the RNN\n",
    "model_rnn.evaluate(x_test, y_test_one_hot)"
   ]
  },
  {
   "cell_type": "markdown",
   "id": "8f8b1039",
   "metadata": {},
   "source": [
    "## Comparing Models"
   ]
  },
  {
   "cell_type": "code",
   "execution_count": 86,
   "id": "6bb596d2",
   "metadata": {},
   "outputs": [
    {
     "data": {
      "image/png": "[encoded data removed]",
      "text/plain": [
       "<Figure size 640x480 with 1 Axes>"
      ]
     },
     "metadata": {},
     "output_type": "display_data"
    }
   ],
   "source": [
    "models =['Random Forest', 'DNN', 'RNN']\n",
    "models_performance = [85.74,98.34,97.71]\n",
    "\n",
    "# Create a bar plot\n",
    "plt.bar(models, models_performance, color='blue')\n",
    "plt.xlabel('Models')\n",
    "plt.ylabel('Performance')\n",
    "plt.title('Model Performance Comparison')\n",
    "plt.ylim(0, 100)  \n",
    "plt.show()"
   ]
  },
  {
   "cell_type": "code",
   "execution_count": null,
   "id": "d940b328",
   "metadata": {},
   "outputs": [],
   "source": []
  }
 ],
 "metadata": {
  "kernelspec": {
   "display_name": "Python 3 (ipykernel)",
   "language": "python",
   "name": "python3"
  },
  "language_info": {
   "codemirror_mode": {
    "name": "ipython",
    "version": 3
   },
   "file_extension": ".py",
   "mimetype": "text/x-python",
   "name": "python",
   "nbconvert_exporter": "python",
   "pygments_lexer": "ipython3",
   "version": "3.10.12"
  }
 },
 "nbformat": 4,
 "nbformat_minor": 5
}
